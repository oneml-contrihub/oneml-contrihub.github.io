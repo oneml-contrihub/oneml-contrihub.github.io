{
 "cells": [
  {
   "cell_type": "markdown",
   "metadata": {
    "id": "oB9VCKW16UJZ"
   },
   "source": [
    "# **Prequisites**\n",
    "\n",
    "* Basic Python\n",
    "* Familiarity with OpenCV "
   ]
  },
  {
   "cell_type": "markdown",
   "metadata": {
    "id": "60zqIbg6BXil"
   },
   "source": [
    "# **Beginning with the basics**\n",
    "\n",
    "First of all let's warm-up and learn to create a function to capture images using Python's OpenCV\n",
    "\n",
    "**Note -** Imshow method and similar window creation methods might not work on jupyter notebook so you can create the python script and follow the same steps as in the notebook."
   ]
  },
  {
   "cell_type": "code",
   "execution_count": null,
   "metadata": {
    "id": "RnL7ynizB1V4"
   },
   "outputs": [],
   "source": [
    "# Install using: !python -m pip install opencv-python\n",
    "import cv2\n",
    "import numpy as np"
   ]
  },
  {
   "cell_type": "code",
   "execution_count": null,
   "metadata": {
    "id": "AV92rSF86lVo"
   },
   "outputs": [],
   "source": [
    "def CaptureImage():\n",
    "  '''\n",
    "  Requires no argument\n",
    "  Returns the file name of image stored in current working directory\n",
    "  '''\n",
    "\n",
    "  filename = \"\"\n",
    "  # Creating a video object, 0 is the id of camera used, set it according to your system configuration\n",
    "  cam = cv2.VideoCapture(0)\n",
    "\n",
    "  # The function namedWindow creates a window that will be used as a placeholder for images\n",
    "  cv2.namedWindow(\"Capture Image\")\n",
    "\n",
    "  while True:\n",
    "\n",
    "      # Start capturing the frames\n",
    "      flag, frame = cam.read()\n",
    "\n",
    "      # flag is true if the frame is successfully received from the camera\n",
    "      if not flag:\n",
    "          print(\"Failed to grab frame\")\n",
    "          break\n",
    "\n",
    "      # Displays the captured frame in the created window\n",
    "      cv2.imshow(\"Capture Image\", frame)\n",
    "\n",
    "      # waitKey function returns the ASCII value of the key pressed\n",
    "      k = cv2.waitKey(1)\n",
    "\n",
    "      # If k equals 32 that means Space key was pressed\n",
    "      if k%256 == 32:\n",
    "          # Capture the image and return the path\n",
    "          img_name = \"image.png\"\n",
    "          # Saves image to current directory\n",
    "          cv2.imwrite(img_name, frame)\n",
    "          filename = img_name\n",
    "          break\n",
    "\n",
    "  # Closes the capturing device\n",
    "  cam.release()\n",
    "  # Destroy the created windows\n",
    "  cv2.destroyAllWindows()\n",
    "\n",
    "  return filename"
   ]
  },
  {
   "cell_type": "code",
   "execution_count": null,
   "metadata": {
    "id": "0HW-iwXfr2Yq"
   },
   "outputs": [],
   "source": [
    "# Press space to capture the image and exit\n",
    "CaptureImage()"
   ]
  }
 ],
 "metadata": {
  "colab": {
   "collapsed_sections": [],
   "name": "Thug_Life_Basics.ipynb",
   "provenance": []
  },
  "kernelspec": {
   "display_name": "Python 3",
   "language": "python",
   "name": "python3"
  },
  "language_info": {
   "name": "python"
  }
 },
 "nbformat": 4,
 "nbformat_minor": 1
}
