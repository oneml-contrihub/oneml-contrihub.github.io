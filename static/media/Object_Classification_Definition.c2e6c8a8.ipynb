{
 "cells": [
  {
   "cell_type": "markdown",
   "metadata": {
    "id": "fhvQ2aGnAk5X"
   },
   "source": [
    "# **Prequisites**\n",
    "\n",
    "*   Basic understanding about neural networks\n",
    "*   Gradient Descent optimization algorithms (RMSProp, Adam etc.)\n",
    "\n",
    "\n"
   ]
  },
  {
   "cell_type": "markdown",
   "metadata": {
    "id": "4EOfBHCd8xb2"
   },
   "source": [
    "# **Computer Vision**\n",
    "\n",
    "Computer vision is a field of artificial intelligence (AI) that enables computers and systems to derive meaningful information from digital images, videos and other visual inputs — and take actions or make recommendations based on that information. If AI enables computers to think, computer vision enables them to see, observe and understand.\n",
    "\n",
    "\n",
    "Computer Vision involves three main tasks:\n",
    "\n",
    "* **Image Classification**: Predict the type or class of an object in an image.\n",
    " * Input: An image with a single object, such as a photograph.\n",
    " * Output: A class label (e.g. one or more integers that are mapped to class labels).\n",
    "* **Object Localization**: Locate the presence of objects in an image and indicate their location with a bounding box.\n",
    " * Input: An image with one or more objects, such as a photograph.\n",
    " * Output: One or more bounding boxes (e.g. defined by a point, width, and height).\n",
    "* **Object Detection**: Locate the presence of objects with a bounding box and types or classes of the located objects in an image.\n",
    " * Input: An image with one or more objects, such as a photograph.\n",
    " * Output: One or more bounding boxes (e.g. defined by a point, width, and height), and a class label for each bounding box.\n",
    "\n",
    "We will discuss **Image Classification** in detail in this notebook. Two essential technologies are used to accomplish this: a type of machine learning called deep learning and a convolutional neural network (CNN).\n",
    "\n",
    "A CNN helps a machine learning or deep learning model “look” by breaking images down into pixels that are given tags or labels. It uses the labels to perform **convolutions** (a mathematical operation on two functions to produce a third function) and makes predictions about what it is “seeing.” The neural network runs convolutions and checks the accuracy of its predictions in a series of iterations until the predictions start to come true. It is then recognizing or seeing images in a way similar to humans.\n",
    "\n",
    "Much like a human making out an image at a distance, a CNN first discerns hard edges and simple shapes, then fills in information as it runs iterations of its predictions. A CNN is used to understand single images. A recurrent neural network (RNN) is used in a similar way for video applications to help computers understand how pictures in a series of frames are related to one another."
   ]
  }
 ],
 "metadata": {
  "accelerator": "GPU",
  "colab": {
   "name": "Object_Classification.ipynb",
   "provenance": []
  },
  "kernelspec": {
   "display_name": "Python 3",
   "language": "python",
   "name": "python3"
  },
  "language_info": {
   "codemirror_mode": {
    "name": "ipython",
    "version": 3
   },
   "file_extension": ".py",
   "mimetype": "text/x-python",
   "name": "python",
   "nbconvert_exporter": "python",
   "pygments_lexer": "ipython3",
   "version": "3.7.4"
  }
 },
 "nbformat": 4,
 "nbformat_minor": 1
}
